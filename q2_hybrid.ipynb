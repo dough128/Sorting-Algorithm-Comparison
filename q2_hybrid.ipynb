{
 "cells": [
  {
   "cell_type": "code",
   "execution_count": null,
   "id": "d85d9308-9cb1-42b7-9201-f31a5b2db8a3",
   "metadata": {},
   "outputs": [],
   "source": []
  },
  {
   "cell_type": "code",
   "execution_count": null,
   "id": "9dd2ef5f-e216-4c47-8fa2-15824cc64616",
   "metadata": {},
   "outputs": [],
   "source": [
    "def insertion_sort(arr, left, right):\n",
    "    for i in range(left + 1, right + 1):\n",
    "        key = arr[i]\n",
    "        j = i - 1\n",
    "        while j >= left and arr[j] > key:\n",
    "            arr[j + 1] = arr[j]\n",
    "            j -= 1\n",
    "        arr[j + 1] = key"
   ]
  },
  {
   "cell_type": "code",
   "execution_count": null,
   "id": "909eacd1-5af0-418f-808d-7e96df58a21b",
   "metadata": {},
   "outputs": [],
   "source": [
    "def hybrid_sort(arr, left, right, k):\n",
    "    if right - left + 1 <= k:\n",
    "        insertion_sort(arr, left, right)\n",
    "    else:\n",
    "        if left < right:\n",
    "            mid = (left + right) // 2\n",
    "            hybrid_sort(arr, left, mid, k)\n",
    "            hybrid_sort(arr, mid + 1, right, k)\n",
    "            merge(arr, left, mid, right)"
   ]
  },
  {
   "cell_type": "code",
   "execution_count": null,
   "id": "5648d8cf-ff40-4d81-a00e-9549d7afe088",
   "metadata": {},
   "outputs": [],
   "source": [
    "def merge(arr, left, mid, right):\n",
    "    L = arr[left:mid + 1]\n",
    "    R = arr[mid + 1:right + 1]\n",
    "\n",
    "    i = j = 0\n",
    "    k = left\n",
    "\n",
    "    while i < len(L) and j < len(R):\n",
    "        if L[i] <= R[j]:\n",
    "            arr[k] = L[i]\n",
    "            i += 1\n",
    "        else:\n",
    "            arr[k] = R[j]\n",
    "            j += 1\n",
    "        k += 1\n",
    "\n",
    "    while i < len(L):\n",
    "        arr[k] = L[i]\n",
    "        i += 1\n",
    "        k += 1\n",
    "\n",
    "    while j < len(R):\n",
    "        arr[k] = R[j]\n",
    "        j += 1"
   ]
  },
  {
   "cell_type": "code",
   "execution_count": null,
   "id": "8889ce5a-25d2-4945-95bc-5ed5fff40289",
   "metadata": {},
   "outputs": [],
   "source": [
    "def time_tim_sort(arr, k):\n",
    "    return timeit.timeit(lambda: hybrid_sort(arr.copy(), 0, len(arr) - 1, k), number=10)"
   ]
  },
  {
   "cell_type": "code",
   "execution_count": null,
   "id": "e87eb8a5-2b43-45c1-8cca-fb8f906446d4",
   "metadata": {},
   "outputs": [],
   "source": [
    "input_sizes = [100, 500, 1000, 5000]\n",
    "k_values = range(2, 51, 2)\n",
    "best_k_for_sizes = {}\n",
    "\n",
    "for size in input_sizes:\n",
    "    arr = [random.randint(0, 10000) for _ in range(size)]\n",
    "    times = []\n",
    "\n",
    "    for k in k_values:\n",
    "        time_taken = time_tim_sort(arr, k)\n",
    "        times.append(time_taken)\n",
    "\n",
    "    best_k = k_values[times.index(min(times))]\n",
    "    best_k_for_sizes[size] = best_k\n",
    "\n",
    "    plt.plot(k_values, times, label=f'Input Size {size}')\n",
    "\n",
    "plt.xlabel('k (Threshold for Switching to Insertion Sort)')\n",
    "plt.ylabel('Time (seconds)')\n",
    "plt.title('Hybrid Sort Timing for Different k Values')\n",
    "plt.legend()\n",
    "plt.show()\n",
    "\n",
    "for size, k in best_k_for_sizes.items():\n",
    "    print(f'Best k for input size {size}: {k}')"
   ]
  }
 ],
 "metadata": {
  "kernelspec": {
   "display_name": "Python 3.11 (default)",
   "language": "python",
   "name": "python3"
  },
  "language_info": {
   "codemirror_mode": {
    "name": "ipython",
    "version": 3
   },
   "file_extension": ".py",
   "mimetype": "text/x-python",
   "name": "python",
   "nbconvert_exporter": "python",
   "pygments_lexer": "ipython3",
   "version": "3.11.9"
  }
 },
 "nbformat": 4,
 "nbformat_minor": 5
}
